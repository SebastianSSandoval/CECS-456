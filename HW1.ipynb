{
  "cells": [
    {
      "cell_type": "markdown",
      "metadata": {
        "id": "TAaYDM4Ns87N"
      },
      "source": [
        "# **Homework 1: Linear Regression and Gradient Descent**\n",
        "\n",
        "**Total Points**: 10\n",
        "\n",
        "**Objective**:\n",
        "In this homework, you will implement linear regression using multiple methods, including the closed-form solution - normal equation and gradient descent. You will also explore the relationship between learning rate and convergence, and visualize the results."
      ]
    },
    {
      "cell_type": "markdown",
      "metadata": {
        "id": "oZSvjfj9-BGU"
      },
      "source": [
        "\n",
        "### **Submission Instructions**\n",
        "- submit .ipynb file via Canvas (Not email), you should not submit .py file.\n",
        "- Make sure to comment your code and explain your logic wherever necessary.\n",
        "- Follow the instructions and fill in the required code blocks.\n",
        "\n",
        "\n"
      ]
    },
    {
      "cell_type": "markdown",
      "metadata": {
        "id": "viLrlSd6nJyh"
      },
      "source": [
        "### **Learning Outcomes**\n",
        "By the end of this assignment, you will:\n",
        "- Understand how to implement linear regression from scratch.\n",
        "- Differentiate between the closed-form solution and gradient descent.\n",
        "- Analyze its performance."
      ]
    },
    {
      "cell_type": "markdown",
      "metadata": {
        "id": "TeMhky9xwsD1"
      },
      "source": [
        "### **Important Note**:\n",
        "You can open this notebook in Google Colab using a Gmail account. To code, first, go to 'File' → 'Save a copy in Drive'. This will allow you to edit the file on your own Drive."
      ]
    },
    {
      "cell_type": "markdown",
      "metadata": {
        "id": "xU2mtNl6kl-G"
      },
      "source": [
        "# Setup (*Do Not change*)"
      ]
    },
    {
      "cell_type": "code",
      "execution_count": 68,
      "metadata": {
        "id": "boBLiqa6csz-"
      },
      "outputs": [],
      "source": [
        "import numpy as np\n",
        "import matplotlib.pyplot as plt\n",
        "np.random.seed(42) ## Ensures reproducibility"
      ]
    },
    {
      "cell_type": "markdown",
      "metadata": {
        "id": "dvHHuyoIlVTG"
      },
      "source": [
        "#prepare the dataset (*Do Not change*)"
      ]
    },
    {
      "cell_type": "code",
      "execution_count": 50,
      "metadata": {
        "id": "Hjc3Kn2_cxXW"
      },
      "outputs": [],
      "source": [
        "X = 2 * np.random.rand(100,1)\n",
        "#print()\n",
        "y = 4 + 3 * X + np.random.randn(100, 1)"
      ]
    },
    {
      "cell_type": "code",
      "execution_count": 51,
      "metadata": {
        "colab": {
          "base_uri": "https://localhost:8080/",
          "height": 459
        },
        "id": "BzQR1oW1liJo",
        "outputId": "f11c4b8d-ed30-426c-a382-59ad62cbbe7e"
      },
      "outputs": [
        {
          "data": {
            "image/png": "[encoded data removed]",
            "text/plain": [
              "<Figure size 640x480 with 1 Axes>"
            ]
          },
          "metadata": {},
          "output_type": "display_data"
        }
      ],
      "source": [
        "#visualize the dataset\n",
        "plt.plot(X, y, \"b.\")\n",
        "plt.xlabel(\"$x_1$\", fontsize=18)\n",
        "plt.ylabel(\"$y$\", rotation=0, fontsize=18)\n",
        "plt.axis([0, 2, 0, 15])\n",
        "plt.show()"
      ]
    },
    {
      "cell_type": "markdown",
      "metadata": {
        "id": "V10VsJazlWsr"
      },
      "source": [
        "#**1st way**: Linear regression using sklearn library (*Do Not change*)"
      ]
    },
    {
      "cell_type": "code",
      "execution_count": 52,
      "metadata": {
        "colab": {
          "base_uri": "https://localhost:8080/"
        },
        "id": "YB0HqNYPk-Uo",
        "outputId": "99893dc9-77bd-437a-c68a-181d9882c7c8"
      },
      "outputs": [
        {
          "data": {
            "text/plain": [
              "(array([4.21509616]), array([[2.77011339]]))"
            ]
          },
          "execution_count": 52,
          "metadata": {},
          "output_type": "execute_result"
        }
      ],
      "source": [
        "from sklearn.linear_model import LinearRegression\n",
        "lin_reg = LinearRegression()\n",
        "lin_reg.fit(X, y)\n",
        "lin_reg.intercept_, lin_reg.coef_"
      ]
    },
    {
      "cell_type": "code",
      "execution_count": 53,
      "metadata": {
        "colab": {
          "base_uri": "https://localhost:8080/"
        },
        "id": "H1vzi-6AmM5M",
        "outputId": "8ac8c44d-26ce-4bf3-a22c-5cf7eadc1108"
      },
      "outputs": [
        {
          "data": {
            "text/plain": [
              "array([[4.21509616],\n",
              "       [9.75532293]])"
            ]
          },
          "execution_count": 53,
          "metadata": {},
          "output_type": "execute_result"
        }
      ],
      "source": [
        "#make predictions on X_new\n",
        "X_new = np.array([[0], [2]])\n",
        "lin_reg.predict(X_new)"
      ]
    },
    {
      "cell_type": "markdown",
      "metadata": {
        "id": "ijFMckOmmolR"
      },
      "source": [
        "#**2nd way**: Linear regression using normal equation (*Your turn!!!*)"
      ]
    },
    {
      "cell_type": "markdown",
      "metadata": {
        "id": "EBxBto2XogNL"
      },
      "source": [
        "# 1. add x0 = 1 to each instance (1 point)"
      ]
    },
    {
      "cell_type": "code",
      "execution_count": 54,
      "metadata": {
        "id": "oI2UZYgfool7"
      },
      "outputs": [],
      "source": [
        "#add the bias term (x0 = 1) to each instance!\n",
        "#your code\n",
        "X_b = np.c_[np.ones((100,1)), X]"
      ]
    },
    {
      "cell_type": "markdown",
      "metadata": {
        "id": "zhSfPIisoqGG"
      },
      "source": [
        "# 2. write the closed-form solution, normal equation using np.linalg.inv() (2 points)"
      ]
    },
    {
      "cell_type": "code",
      "execution_count": 55,
      "metadata": {
        "id": "UHUOZVeoc-TJ"
      },
      "outputs": [
        {
          "name": "stdout",
          "output_type": "stream",
          "text": [
            "[[4.21509616]\n",
            " [2.77011339]]\n"
          ]
        }
      ],
      "source": [
        "#closed-form solution: w = (X^T X)^{-1} X^T y\n",
        "#np.linalg.inv(...): This computes the inverse of the matrix  (X^T X)^{-1}\n",
        "#your code\n",
        "\n",
        "thetaBest = np.linalg.inv(X_b.T.dot(X_b)).dot(X_b.T).dot(y)\n",
        "\n",
        "print(thetaBest)"
      ]
    },
    {
      "cell_type": "markdown",
      "metadata": {
        "id": "IW5BZRtno4km"
      },
      "source": [
        "# 3. print weights"
      ]
    },
    {
      "cell_type": "code",
      "execution_count": 56,
      "metadata": {
        "id": "k7mWjN-neyws"
      },
      "outputs": [
        {
          "name": "stdout",
          "output_type": "stream",
          "text": [
            "Intercept (theta 0): 4.21509615754675 \n",
            "Coefficient (theta 1): 2.7701133864384806\n"
          ]
        }
      ],
      "source": [
        "#your code\n",
        "\n",
        "a = thetaBest[0][0]\n",
        "b = thetaBest[1][0]\n",
        "print(f\"Intercept (theta 0): {a} \\nCoefficient (theta 1): {b}\"  )"
      ]
    },
    {
      "cell_type": "markdown",
      "metadata": {
        "id": "i4jpLTanpEUD"
      },
      "source": [
        "# 4. make prediction on X_new (from the 1st part), but before predicting, you need to add x0=1 to each instance (2 points)"
      ]
    },
    {
      "cell_type": "code",
      "execution_count": 57,
      "metadata": {
        "id": "xG6WksCRfSYd"
      },
      "outputs": [
        {
          "name": "stdout",
          "output_type": "stream",
          "text": [
            "X_new predictions: [[4.21509616]\n",
            " [9.75532293]]\n"
          ]
        }
      ],
      "source": [
        "#Predict the values for new data points X_new = np.array([[0], [2]])\n",
        "#your code\n",
        "X_new_b = np.c_[np.ones((X_new.shape[0],1)), X_new]\n",
        "y_predict = X_new_b.dot(thetaBest)\n",
        "\n",
        "print(f\"X_new predictions: {y_predict}\")"
      ]
    },
    {
      "cell_type": "markdown",
      "metadata": {
        "id": "1KgIP4Umh1oQ"
      },
      "source": [
        "#**3rd way**: Linear Regression using batch gradient descent (*Your turn!!!*)"
      ]
    },
    {
      "cell_type": "code",
      "execution_count": 72,
      "metadata": {
        "id": "NSGLEbech7Z7"
      },
      "outputs": [
        {
          "name": "stdout",
          "output_type": "stream",
          "text": [
            "[[1.57921282]\n",
            " [0.76743473]]\n"
          ]
        }
      ],
      "source": [
        "#Do not change this code cell\n",
        "#hyperparameters\n",
        "eta = 0.2  # learning rate\n",
        "n_iterations = 1000\n",
        "#Initialize weights randomly\n",
        "weights_gd = np.random.randn(2,1)  # 2 weights (for x0 and x1)\n",
        "\n",
        "print(weights_gd)"
      ]
    },
    {
      "cell_type": "markdown",
      "metadata": {
        "id": "Y7GUSC_Ap6LA"
      },
      "source": [
        "# 1. write gradient descent without using sklearn (2 points)"
      ]
    },
    {
      "cell_type": "code",
      "execution_count": 83,
      "metadata": {
        "id": "HwM1lh3sA3S3"
      },
      "outputs": [
        {
          "name": "stdout",
          "output_type": "stream",
          "text": [
            "[[4.21509616]\n",
            " [2.77011339]]\n"
          ]
        }
      ],
      "source": [
        "#your code\n",
        "#FIXME\n",
        "a = X_b.shape[0] # this should be 100, it is 100\n",
        "for i in range(n_iterations):\n",
        "    y_pred = X_b @ weights_gd\n",
        "    \n",
        "    gradients = 2/a * (X_b.T @ (y_pred - y)) # @ does dot multiplication and simplifies the function\n",
        "    weights_gd -= eta * gradients\n",
        "\n",
        "print(weights_gd)\n",
        "    \n"
      ]
    },
    {
      "cell_type": "markdown",
      "metadata": {
        "id": "Si4aXbZ4p_O8"
      },
      "source": [
        "# 2. print weights"
      ]
    },
    {
      "cell_type": "code",
      "execution_count": 85,
      "metadata": {
        "id": "RyjEEwSiA65o"
      },
      "outputs": [
        {
          "name": "stdout",
          "output_type": "stream",
          "text": [
            "Final weights (theta 0, theta 1:) \n",
            "[4.21509616] \n",
            "[2.77011339]\n"
          ]
        }
      ],
      "source": [
        "#your code\n",
        "print(f\"Final weights (theta 0, theta 1:) \\n{weights_gd[0]} \\n{weights_gd[1]}\") "
      ]
    },
    {
      "cell_type": "markdown",
      "metadata": {
        "id": "nH4vR7vVqB_-"
      },
      "source": [
        "# 3. make prediction on X_new(from the 1st part), you also need to add x0=1 to each instance before making prediction (1 point)\n",
        "- Predict the values for `X_new = np.array([[0], [2]])` using the weights obtained from gradient descent.\n"
      ]
    },
    {
      "cell_type": "code",
      "execution_count": 79,
      "metadata": {
        "id": "nOZgzfRzA8nB"
      },
      "outputs": [
        {
          "name": "stdout",
          "output_type": "stream",
          "text": [
            "New predictions for the new data points\n",
            "[4.21509616]\n",
            "[9.75532293]\n"
          ]
        }
      ],
      "source": [
        "# Add x0 = 1 to X_new and make predictions using the weights from gradient descent\n",
        "#your code\n",
        "\n",
        "\"\"\"\n",
        "X_new_b = np.c_[np.ones((X_new.shape[0],1)), X_new]\n",
        "X_new = np.array([[0], [2]])\n",
        "The following code lines already exists so no need to reprodce it again\"\"\"\n",
        "\n",
        "y_pred_new = X_new_b @ weights_gd\n",
        "\n",
        "print(f\"New predictions for the new data points\\n{y_pred_new[0]}\\n{y_pred_new[1]}\")\n"
      ]
    },
    {
      "cell_type": "markdown",
      "metadata": {
        "id": "8nfozX_lsOG3"
      },
      "source": [
        "#4. Cost Analysis (2 points)\n",
        "- Calculate the **Cost function J** for the predictions obtained from gradient descent.\n",
        "- and compare it with the closed-form solution."
      ]
    },
    {
      "cell_type": "code",
      "execution_count": 81,
      "metadata": {
        "id": "tYrU1grVsNvN"
      },
      "outputs": [],
      "source": [
        "# Calculate J\n",
        "# Your code here\n",
        "def cost(y_pred, y_actual):\n",
        "    a = len(y_actual)\n",
        "    cost = (1/a) * np.sum((y_pred - y_actual) ** 2)\n",
        "    return cost"
      ]
    },
    {
      "cell_type": "code",
      "execution_count": 88,
      "metadata": {
        "id": "9ja37imdwRiU"
      },
      "outputs": [
        {
          "name": "stdout",
          "output_type": "stream",
          "text": [
            "Closed-Form Solution (Normal Equation) Cost:\n",
            "0.8065845639670534 \n",
            "Gradient Descent Cost:\n",
            " 0.8065845639670532\n"
          ]
        }
      ],
      "source": [
        "# Predictions from closed-form solution\n",
        "y_pred_closed = X_b @ thetaBest\n",
        "\n",
        "# Predictions from gradient descent\n",
        "y_pred_gd = X_b @ weights_gd\n",
        "\n",
        "\n",
        "cost_closed = cost(y_pred_closed,y)\n",
        "cost_gd = cost(y_pred_gd, y)\n",
        "# Print and compare the results\n",
        "print(f\"Closed-Form Solution (Normal Equation) Cost:\\n{cost_closed} \\nGradient Descent Cost:\\n{cost_gd}\")\n",
        "\n",
        "\n"
      ]
    },
    {
      "cell_type": "markdown",
      "metadata": {
        "id": "raZpnnONqnrC"
      },
      "source": [
        "### **Submission Checklist**:\n",
        "- [ ] Ensure all code cells run without errors.\n",
        "- [ ] Comment your code and explain any important logic.\n",
        "- [ ] Submit your `.ipynb` file via canvas."
      ]
    }
  ],
  "metadata": {
    "colab": {
      "provenance": []
    },
    "kernelspec": {
      "display_name": "Python 3 (ipykernel)",
      "language": "python",
      "name": "python3"
    },
    "language_info": {
      "codemirror_mode": {
        "name": "ipython",
        "version": 3
      },
      "file_extension": ".py",
      "mimetype": "text/x-python",
      "name": "python",
      "nbconvert_exporter": "python",
      "pygments_lexer": "ipython3",
      "version": "3.11.4"
    }
  },
  "nbformat": 4,
  "nbformat_minor": 0
}
